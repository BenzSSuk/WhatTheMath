{
 "cells": [
  {
   "cell_type": "code",
   "execution_count": 25,
   "metadata": {},
   "outputs": [],
   "source": [
    "import multiprocessing \n",
    "import numpy as np\n",
    "import time\n",
    "from multiprocessing import Process\n",
    "\n",
    "# def f(name):\n",
    "#     print('hello', name)\n",
    "\n",
    "# if __name__ == '__main__':\n",
    "#     p = Process(target=f, args=('bob',))\n",
    "#     p.start()\n",
    "#     p.join()"
   ]
  },
  {
   "cell_type": "code",
   "execution_count": 26,
   "metadata": {},
   "outputs": [],
   "source": [
    "def minDistance(point_all,point_new):\n",
    "#     distanceArr = np.linalg.norm(point_all - point_new, axis = 1)\n",
    "    distanceArr =  np.sqrt(np.sum(np.square(point_all - point_new),axis = 1))\n",
    "    minDist = np.min(distanceArr)\n",
    "    \n",
    "    return minDist"
   ]
  },
  {
   "cell_type": "code",
   "execution_count": 34,
   "metadata": {},
   "outputs": [],
   "source": [
    "# point_all = np.random.rand(10,2)*100\n",
    "point_all = np.random.rand(200000000,2)*100\n",
    "# point_all"
   ]
  },
  {
   "cell_type": "code",
   "execution_count": 35,
   "metadata": {},
   "outputs": [
    {
     "name": "stdout",
     "output_type": "stream",
     "text": [
      "Run time:5.570057399999996, minDist:0.0030412335362227077\n"
     ]
    }
   ],
   "source": [
    "t1 = time.perf_counter()\n",
    "point_new = np.array([[10,10]])\n",
    "minDist = minDistance(point_all, point_new)\n",
    "t2 = time.perf_counter()\n",
    "print(f'Run time:{t2-t1}, minDist:{minDist}')"
   ]
  },
  {
   "cell_type": "code",
   "execution_count": null,
   "metadata": {},
   "outputs": [],
   "source": [
    "\n",
    "t1 = time.perf_counter()\n",
    "\n",
    "# 1 - 100M\n",
    "p1 = multiprocessing.Process(target=minDistance, args=(point_all[0:100000000,:],point_new))\n",
    "# 100 - 200M\n",
    "p2 = multiprocessing.Process(target = minDistance, args=(point_all[100000001:199999999,:],point_new))\n",
    "\n",
    "p1.start()\n",
    "p2.start()\n",
    "\n",
    "p1.join()\n",
    "p2.join()\n",
    "\n",
    "t2 = time.perf_counter()\n",
    "print(f'Run time:{t2-t1}, minDist:{minDist}')"
   ]
  },
  {
   "cell_type": "code",
   "execution_count": null,
   "metadata": {},
   "outputs": [],
   "source": []
  }
 ],
 "metadata": {
  "kernelspec": {
   "display_name": "Python 3",
   "language": "python",
   "name": "python3"
  },
  "language_info": {
   "codemirror_mode": {
    "name": "ipython",
    "version": 3
   },
   "file_extension": ".py",
   "mimetype": "text/x-python",
   "name": "python",
   "nbconvert_exporter": "python",
   "pygments_lexer": "ipython3",
   "version": "3.8.5"
  }
 },
 "nbformat": 4,
 "nbformat_minor": 4
}
